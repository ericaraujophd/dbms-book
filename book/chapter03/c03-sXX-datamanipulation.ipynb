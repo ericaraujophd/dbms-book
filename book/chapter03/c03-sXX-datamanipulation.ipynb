{
 "cells": [
  {
   "cell_type": "markdown",
   "metadata": {},
   "source": [
    "# 🧠 Data Manipulation and Table Design with SQL\n",
    "\n",
    "## 🎯 Learning Objectives\n",
    "\n",
    "By the end of this class, students will be able to:\n",
    "\n",
    "* Insert, update, and delete records in a database.\n",
    "* Apply `UPSERT` and `REPLACE` strategies to handle conflicts.\n",
    "* Use the `RETURNING` clause to retrieve affected rows.\n",
    "* Design and modify database tables and views using DDL (Data Definition Language) commands."
   ]
  },
  {
   "cell_type": "code",
   "execution_count": 1,
   "metadata": {},
   "outputs": [],
   "source": [
    "import sqlite3\n"
   ]
  },
  {
   "cell_type": "code",
   "execution_count": 2,
   "metadata": {},
   "outputs": [
    {
     "name": "stdout",
     "output_type": "stream",
     "text": [
      "Creating database...\n"
     ]
    }
   ],
   "source": [
    "print(\"Creating database...\")"
   ]
  },
  {
   "cell_type": "code",
   "execution_count": null,
   "metadata": {},
   "outputs": [],
   "source": []
  }
 ],
 "metadata": {
  "kernelspec": {
   "display_name": ".venv",
   "language": "python",
   "name": "python3"
  },
  "language_info": {
   "codemirror_mode": {
    "name": "ipython",
    "version": 3
   },
   "file_extension": ".py",
   "mimetype": "text/x-python",
   "name": "python",
   "nbconvert_exporter": "python",
   "pygments_lexer": "ipython3",
   "version": "3.13.2"
  }
 },
 "nbformat": 4,
 "nbformat_minor": 2
}
