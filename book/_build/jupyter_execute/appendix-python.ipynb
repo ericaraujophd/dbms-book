{
 "cells": [
  {
   "cell_type": "markdown",
   "metadata": {},
   "source": [
    "# 🧑‍🏫 Week 03 Class 02\n",
    "\n",
    "**Querying SQLite with Python + SQL for Data Manipulation and Table Design**\n",
    "\n",
    "🕒 Duration: 65 minutes\n",
    "\n",
    "This class is split into three main parts:\n",
    "\t\n",
    "1.\tPython and SQLite Integration\n",
    "2.\tData Manipulation (DML)\n",
    "3.\tTable Design (DDL)"
   ]
  },
  {
   "cell_type": "markdown",
   "metadata": {},
   "source": [
    "---\n",
    "\n",
    "## 🔹 Part 1: Data Manipulation Commands (20 min)"
   ]
  },
  {
   "cell_type": "markdown",
   "metadata": {},
   "source": [
    "💡 Key SQL Syntax Examples (also used from Python):\n",
    "\n",
    "**1.\tINSERT:**\n",
    "\n",
    "```sql\n",
    "INSERT INTO students (name, grade) VALUES ('Bob', 90);\n",
    "```\n",
    "\n",
    "**2.\tUPDATE:**\n",
    "\n",
    "```sql\n",
    "UPDATE students SET grade = 95 WHERE name = 'Bob';\n",
    "```\n",
    "\n",
    "**3.\tDELETE:**\n",
    "\n",
    "```sql\n",
    "DELETE FROM students WHERE name = 'Bob';\n",
    "```\n",
    "\n",
    "**4. REPLACE (SQLite-specific):**\n",
    "\n",
    "```sql\n",
    "REPLACE INTO students (id, name, grade) VALUES (1, 'Alice', 88);\n",
    "```\n",
    "\n",
    "If row with id=1 exists, it’s deleted and replaced.\n",
    "\n",
    "**5.\tUPSERT with ON CONFLICT:**\n",
    "\n",
    "```sql\n",
    "INSERT INTO students (id, name, grade)\n",
    "VALUES (1, 'Alice', 91)\n",
    "ON CONFLICT(id) DO UPDATE SET grade = excluded.grade;\n",
    "```\n",
    "\n",
    "This command tries to insert a new student. If a student with the same `id = 1` already exists, instead of raising an error, it updates the existing row by setting its grade to 91.\n",
    "\n",
    "**excluded** is a special keyword that refers to the values you tried to insert.\n",
    "\n",
    "Only the column(s) explicitly listed in the UPDATE SET ... clause will be modified.\n",
    "\n",
    "```{admonition} Talk to Your Neighbor\n",
    ":class: tip\n",
    "It the name changed? How would we update the name as well as the grade?\n",
    "```\n",
    "\n",
    "**6.\tRETURNING:**\n",
    "\n",
    "```sql\n",
    "DELETE FROM students WHERE grade < 60 RETURNING *;\n",
    "```\n"
   ]
  },
  {
   "cell_type": "markdown",
   "metadata": {},
   "source": [
    "| Feature   | SQLite        | PostgreSQL     | MySQL                 |\n",
    "|-----------|---------------|----------------|------------------------|\n",
    "| REPLACE   | ✅ Yes        | ❌ No          | ✅ Yes                |\n",
    "| UPSERT    | ✅ ON CONFLICT| ✅ ON CONFLICT | ✅ ON DUPLICATE KEY   |\n",
    "| RETURNING | ✅ (3.35+)    | ✅             | ✅ (8.0.19+)          |"
   ]
  },
  {
   "cell_type": "markdown",
   "metadata": {},
   "source": []
  },
  {
   "cell_type": "markdown",
   "metadata": {},
   "source": [
    "---\n",
    "\n",
    "## 🔹 Part 2: Table Design and DDL (25 min)"
   ]
  },
  {
   "cell_type": "markdown",
   "metadata": {},
   "source": [
    "### 🧱 Core DDL Commands\n",
    "\n",
    "**1.\tCREATE TABLE:**\n",
    "\n",
    "```sql\n",
    "CREATE TABLE courses (\n",
    "    id INTEGER PRIMARY KEY,\n",
    "    title TEXT NOT NULL,\n",
    "    credits INTEGER\n",
    ");\n",
    "```\n",
    "\n",
    "**2.\tALTER TABLE:**\n",
    "\n",
    "```sql\n",
    "ALTER TABLE courses ADD COLUMN description TEXT;\n",
    "```\n",
    "\n",
    "```{note}\n",
    "SQLite only allows adding columns, not dropping or modifying them.\n",
    "```\n",
    "\n",
    "**3.\tDROP TABLE:**\n",
    "\n",
    "```sql\n",
    "DROP TABLE IF EXISTS courses;\n",
    "```\n",
    "\n",
    "**4.\tCREATE INDEX:**\n",
    "\n",
    "```sql\n",
    "CREATE INDEX idx_department ON courses(department);\n",
    "```\n",
    "\n",
    "**5.\tDROP INDEX:**\n",
    "\n",
    "```sql\n",
    "DROP INDEX IF EXISTS idx_department;\n",
    "```\n",
    "\n",
    "**6.\tCREATE VIEW:**\n",
    "\n",
    "```sql\n",
    "CREATE VIEW cs_courses AS\n",
    "SELECT * FROM courses WHERE department = 'CS';\n",
    "```\n",
    "\n",
    "**7.\tDROP VIEW:**\n",
    "\n",
    "```sql\n",
    "DROP VIEW IF EXISTS cs_courses;\n",
    "```\n",
    "\n",
    "SQLite views are read-only unless defined over simple queries."
   ]
  },
  {
   "cell_type": "markdown",
   "metadata": {},
   "source": [
    "---\n",
    "\n",
    "## 🔹 Part 3: Querying SQLite from Python (20 min)\n",
    "\n",
    "**🎯 Goal:**\n",
    "\n",
    "Introduce students to running SQL commands directly from Python using the built-in sqlite3 library.\n",
    "\n",
    "🔍 Key Concepts:\n",
    "\n",
    "* How to connect to a SQLite database.\n",
    "* How to execute SQL commands from Python.\n",
    "* How to use placeholders to prevent SQL injection.\n",
    "* How to retrieve query results."
   ]
  },
  {
   "cell_type": "markdown",
   "metadata": {},
   "source": [
    "### 🧑‍💻 Code Walkthrough\n",
    "\n",
    "**1.\tConnecting to a Database:**"
   ]
  },
  {
   "cell_type": "code",
   "execution_count": 1,
   "metadata": {},
   "outputs": [
    {
     "name": "stdout",
     "output_type": "stream",
     "text": [
      "3.49.1\n"
     ]
    }
   ],
   "source": [
    "import sqlite3\n",
    "print(sqlite3.sqlite_version)"
   ]
  },
  {
   "cell_type": "code",
   "execution_count": 2,
   "metadata": {},
   "outputs": [],
   "source": [
    "# Creating a connection to the database\n",
    "# and a cursor object to execute SQL commands\n",
    "# You can use \":memory:\" to create a temporary database instead of a file, like this: \n",
    "# conn = sqlite3.connect(\":memory:\")\n",
    "conn = sqlite3.connect(\"school.db\")  # creates a file if it doesn’t exist\n",
    "cursor = conn.cursor()"
   ]
  },
  {
   "cell_type": "markdown",
   "metadata": {},
   "source": [
    "**2.\tCreating a Table:**"
   ]
  },
  {
   "cell_type": "code",
   "execution_count": 3,
   "metadata": {},
   "outputs": [],
   "source": [
    "# We drop the table to avoid duplicates. This won't be the case for all databases!\n",
    "cursor.execute(\"\"\"\n",
    "DROP TABLE IF EXISTS students;\n",
    "\"\"\")\n",
    "\n",
    "# Creating a new table named 'students'\n",
    "cursor.execute(\"\"\"\n",
    "CREATE TABLE IF NOT EXISTS students (\n",
    "    id INTEGER PRIMARY KEY AUTOINCREMENT,\n",
    "    name TEXT NOT NULL,\n",
    "    grade INTEGER\n",
    ")\n",
    "\"\"\")\n",
    "\n",
    "# Committing the changes to the database\n",
    "conn.commit()"
   ]
  },
  {
   "cell_type": "markdown",
   "metadata": {},
   "source": [
    "When you run SQL statements that modify the database (like `INSERT`, `UPDATE`, `DELETE`, `REPLACE`, `CREATE`, etc.), those changes are initially made in memory only as part of a transaction.\n",
    "\n",
    "✅ conn.commit() makes those changes permanent in the .db file on disk.\n",
    "\n",
    "**💡 Good Practices**\n",
    "\n",
    "* Call `conn.commit()` after each logical unit of work (e.g., inserting multiple rows or after a form submission).\n",
    "* For multiple steps, wrap them in a transaction using:\n",
    "\n",
    "```python\n",
    "with conn:\n",
    "    cursor.execute(...)\n",
    "    cursor.execute(...)\n",
    "# Auto-commits on success, rolls back on error\n",
    "```"
   ]
  },
  {
   "cell_type": "markdown",
   "metadata": {},
   "source": [
    "**3.\tInserting Data with Parameters:**"
   ]
  },
  {
   "cell_type": "code",
   "execution_count": 4,
   "metadata": {},
   "outputs": [],
   "source": [
    "cursor.execute(\"INSERT INTO students (name, grade) VALUES (?, ?)\", (\"Alice\", 85))\n",
    "cursor.execute(\"INSERT INTO students (name, grade) VALUES (?, ?)\", (\"Bob\", 45))\n",
    "cursor.execute(\"INSERT INTO students (name, grade) VALUES (?, ?)\", (\"Carl\", 65))\n",
    "cursor.execute(\"INSERT INTO students (name, grade) VALUES (?, ?)\", (\"Daniel\", 95))\n",
    "conn.commit()"
   ]
  },
  {
   "cell_type": "markdown",
   "metadata": {},
   "source": [
    "**4.\tRetrieving Data:**"
   ]
  },
  {
   "cell_type": "code",
   "execution_count": 5,
   "metadata": {},
   "outputs": [
    {
     "name": "stdout",
     "output_type": "stream",
     "text": [
      "(1, 'Alice', 85)\n",
      "(2, 'Bob', 45)\n",
      "(3, 'Carl', 65)\n",
      "(4, 'Daniel', 95)\n"
     ]
    }
   ],
   "source": [
    "cursor.execute(\"SELECT * FROM students\")\n",
    "for row in cursor.fetchall():\n",
    "    print(row)"
   ]
  },
  {
   "cell_type": "markdown",
   "metadata": {},
   "source": [
    "**5.\tUsing RETURNING (SQLite 3.35+):**"
   ]
  },
  {
   "cell_type": "code",
   "execution_count": 6,
   "metadata": {},
   "outputs": [
    {
     "name": "stdout",
     "output_type": "stream",
     "text": [
      "Deleted rows: [(2, 'Bob', 45)]\n"
     ]
    }
   ],
   "source": [
    "# Returns all columns of the rows that were deleted.\n",
    "cursor.execute(\"DELETE FROM students WHERE grade < 50 RETURNING *\")\n",
    "rows = cursor.fetchall()\n",
    "\n",
    "print(\"Deleted rows:\", rows)  # Should print: [(2, 'Bob', 45)]"
   ]
  },
  {
   "cell_type": "markdown",
   "metadata": {},
   "source": [
    "## Activity 1\n",
    "\n",
    "Create a New Table for Courses\n",
    "\n",
    "Create a courses table with:\n",
    "\n",
    "* id (PK)\n",
    "* title\n",
    "* credits"
   ]
  },
  {
   "cell_type": "code",
   "execution_count": 7,
   "metadata": {},
   "outputs": [],
   "source": [
    "# your code in here"
   ]
  },
  {
   "cell_type": "markdown",
   "metadata": {},
   "source": [
    "## Activity 2\n",
    "\n",
    "Create a view high_achievers that shows students with grade ≥ 90.\n",
    "\n",
    "```{note}\n",
    "A view is a virtual table that stores the result of a SQL query.\n",
    "It doesn’t store data itself — it just runs the underlying query whenever you access it.\n",
    "```\n",
    "\n"
   ]
  },
  {
   "cell_type": "code",
   "execution_count": 8,
   "metadata": {},
   "outputs": [],
   "source": [
    "# your code in here"
   ]
  },
  {
   "cell_type": "markdown",
   "metadata": {},
   "source": [
    "## Activity 3\n",
    "\n",
    "Query a view just like a table"
   ]
  },
  {
   "cell_type": "code",
   "execution_count": 9,
   "metadata": {},
   "outputs": [],
   "source": [
    "# your code in here"
   ]
  },
  {
   "cell_type": "markdown",
   "metadata": {},
   "source": [
    "## 🔥 Advanced View Example (Computed Column)\n",
    "\n",
    "```sql\n",
    "CREATE VIEW student_status AS\n",
    "SELECT id, name, grade,\n",
    "       CASE WHEN grade >= 60 THEN 'Pass' ELSE 'Fail' END AS status\n",
    "FROM students;\n",
    "```\n",
    "\n",
    "To query it:\n",
    "\n",
    "```sql\n",
    "SELECT * FROM student_status;\n",
    "```\n"
   ]
  },
  {
   "cell_type": "code",
   "execution_count": 10,
   "metadata": {},
   "outputs": [],
   "source": [
    "# your code in here"
   ]
  },
  {
   "cell_type": "code",
   "execution_count": 11,
   "metadata": {},
   "outputs": [],
   "source": [
    "# your code in here"
   ]
  }
 ],
 "metadata": {
  "kernelspec": {
   "display_name": ".venv",
   "language": "python",
   "name": "python3"
  },
  "language_info": {
   "codemirror_mode": {
    "name": "ipython",
    "version": 3
   },
   "file_extension": ".py",
   "mimetype": "text/x-python",
   "name": "python",
   "nbconvert_exporter": "python",
   "pygments_lexer": "ipython3",
   "version": "3.13.2"
  }
 },
 "nbformat": 4,
 "nbformat_minor": 2
}