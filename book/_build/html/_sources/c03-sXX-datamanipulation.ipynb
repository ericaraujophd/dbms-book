{
 "cells": [
  {
   "cell_type": "markdown",
   "metadata": {},
   "source": [
    "# 🧠 Data Manipulation and Table Design with SQL\n",
    "\n",
    "## 🎯 Learning Objectives\n",
    "\n",
    "By the end of this class, students will be able to:\n",
    "\n",
    "* Insert, update, and delete records in a database.\n",
    "* Apply UPSERT and REPLACE strategies to handle conflicts.\n",
    "* Use the RETURNING clause to retrieve affected rows.\n",
    "* Design and modify database tables and views using DDL (Data Definition Language) commands."
   ]
  }
 ],
 "metadata": {
  "language_info": {
   "name": "python"
  }
 },
 "nbformat": 4,
 "nbformat_minor": 2
}
